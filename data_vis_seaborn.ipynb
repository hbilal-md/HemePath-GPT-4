{
 "cells": [
  {
   "cell_type": "code",
   "execution_count": 2,
   "metadata": {},
   "outputs": [],
   "source": [
    "import pandas as pd\n",
    "from sklearn.metrics import confusion_matrix\n",
    "import seaborn as sns\n",
    "import matplotlib.pyplot as plt\n",
    "import numpy as np"
   ]
  },
  {
   "cell_type": "markdown",
   "metadata": {},
   "source": [
    "### Importing Data and Adjusting Data Labels"
   ]
  },
  {
   "cell_type": "code",
   "execution_count": 3,
   "metadata": {},
   "outputs": [],
   "source": [
    "df = pd.read_csv('/home/hasan/Projects/heme_gpt/gpt_heme_diff_output_v7_split.csv')\n",
    "df['Dx_Cat'] = df['Dx_Cat'].str.replace('Acute Myeloid Leukemia/Acute Lymphoblastic Leukemia', 'AML/ALL')\n",
    "df['Diagnosis Category 1'] = df['Diagnosis Category 1'].str.replace('Acute Myeloid Leukemia/Acute Lymphoblastic Leukemia', 'AML/ALL')\n",
    "df['Diagnosis Category 2'] = df['Diagnosis Category 2'].str.replace('Acute Myeloid Leukemia/Acute Lymphoblastic Leukemia', 'AML/ALL')\n",
    "df['Diagnosis Category 3'] = df['Diagnosis Category 3'].str.replace('Acute Myeloid Leukemia/Acute Lymphoblastic Leukemia', 'AML/ALL')"
   ]
  },
  {
   "cell_type": "code",
   "execution_count": 4,
   "metadata": {},
   "outputs": [],
   "source": [
    "df = df[df['Conclusion'] != 'NO']"
   ]
  },
  {
   "cell_type": "markdown",
   "metadata": {},
   "source": [
    "### Creating Confusion Matrix from Top-1 Diagnoses"
   ]
  },
  {
   "cell_type": "code",
   "execution_count": 42,
   "metadata": {},
   "outputs": [],
   "source": [
    "y_true = df['Dx_Cat']\n",
    "y_pred = df['Diagnosis Category 1']\n",
    "conf_matrix = confusion_matrix(y_true, y_pred)\n",
    "conf_matrix_prop = conf_matrix.astype('float') / conf_matrix.sum(axis=1)[:, np.newaxis]"
   ]
  },
  {
   "cell_type": "markdown",
   "metadata": {},
   "source": [
    "### Plotting the Confusion Matrix using Seaborn"
   ]
  },
  {
   "cell_type": "code",
   "execution_count": 43,
   "metadata": {},
   "outputs": [],
   "source": [
    "plt.figure(figsize=(10, 9))\n",
    "sns.heatmap(conf_matrix_prop, annot=True, fmt='.2f', cmap='flare', vmin=0, vmax=1, xticklabels=sorted(df['Dx_Cat'].unique()), yticklabels=sorted(df['Dx_Cat'].unique()))\n",
    "plt.title('Normalized Confusion Matrix for GPT4 predictions for Hematological Disease, by Category')\n",
    "plt.ylabel('Actual')\n",
    "plt.xlabel('Predicted')\n",
    "plt.tight_layout()\n",
    "plt.savefig(f'normalized_CM.png', format='png', dpi=300, bbox_inches='tight')\n",
    "plt.close() "
   ]
  },
  {
   "cell_type": "markdown",
   "metadata": {},
   "source": [
    "### Defining function to calculate Accuracy, Precision, Recall and F-Score for each Top-k prediction for each Label"
   ]
  },
  {
   "cell_type": "code",
   "execution_count": 28,
   "metadata": {},
   "outputs": [],
   "source": [
    "def calculate_metrics(df):\n",
    "    unique_labels = df['Dx_Cat'].unique()\n",
    "    metrics = {label: {'Top-1': {}, 'Top-2': {}, 'Top-3': {}} for label in unique_labels}\n",
    "\n",
    "    for label in unique_labels:\n",
    "        total_instances = df[df['Dx_Cat'] == label].shape[0]\n",
    "        for top_k in ['Top-1', 'Top-2', 'Top-3']:\n",
    "            top_k_index = int(top_k.split('-')[1])  \n",
    "\n",
    "            if top_k_index == 1:\n",
    "                TP = df[(df['Dx_Cat'] == label) & (df['Diagnosis Category 1'] == label)].shape[0]\n",
    "            else:\n",
    "                TP_conditions = [(df['Dx_Cat'] == label) & (df[f'Diagnosis Category {i}'] == label) for i in range(1, top_k_index + 1)]\n",
    "                TP = df[np.logical_or.reduce(TP_conditions)].shape[0]\n",
    "\n",
    "            if top_k_index == 1:\n",
    "                FP = df[(df['Diagnosis Category 1'] == label) & (df['Dx_Cat'] != label)].shape[0]\n",
    "            else:\n",
    "                FP_conditions = [(df[f'Diagnosis Category {i}'] == label) & (df['Dx_Cat'] != label) for i in range(1, top_k_index + 1)]\n",
    "                FP = df[np.logical_or.reduce(FP_conditions)].shape[0]\n",
    "\n",
    "            if top_k_index == 1:\n",
    "                FN = df[(df['Dx_Cat'] == label) & (df['Diagnosis Category 1'] != label)].shape[0]\n",
    "            else:\n",
    "                FN_conditions = [(df['Dx_Cat'] == label) & (df[f'Diagnosis Category {i}'] != label) for i in range(1, top_k_index + 1)]\n",
    "                FN = df[np.logical_and.reduce(FN_conditions)].shape[0]\n",
    "\n",
    "            Precision = TP / (TP + FP) if TP + FP > 0 else 0\n",
    "            Recall = TP / (TP + FN) if TP + FN > 0 else 0\n",
    "            F_Score = 2 * (Precision * Recall) / (Precision + Recall) if Precision + Recall > 0 else 0\n",
    "\n",
    "            Accuracy = TP / (TP + FN) if (TP + FN) > 0 else 0\n",
    "\n",
    "            metrics[label][top_k] = {\n",
    "                'Precision': Precision,\n",
    "                'Recall': Recall,\n",
    "                'F-Score': F_Score,\n",
    "                'TP': TP,\n",
    "                'FP': FP,\n",
    "                'FN': FN,\n",
    "                'Accuracy': Accuracy,\n",
    "                'Total Instances': total_instances\n",
    "            }\n",
    "\n",
    "    return metrics"
   ]
  },
  {
   "cell_type": "code",
   "execution_count": 29,
   "metadata": {},
   "outputs": [
    {
     "name": "stdout",
     "output_type": "stream",
     "text": [
      "{'AML/ALL': {'Top-1': {'Precision': 0.8469945355191257, 'Recall': 1.0, 'F-Score': 0.9171597633136095, 'TP': 155, 'FP': 28, 'FN': 0, 'Accuracy': 1.0, 'Total Instances': 155}, 'Top-2': {'Precision': 0.7989690721649485, 'Recall': 1.0, 'F-Score': 0.8882521489971347, 'TP': 155, 'FP': 39, 'FN': 0, 'Accuracy': 1.0, 'Total Instances': 155}, 'Top-3': {'Precision': 0.6981981981981982, 'Recall': 1.0, 'F-Score': 0.8222811671087533, 'TP': 155, 'FP': 67, 'FN': 0, 'Accuracy': 1.0, 'Total Instances': 155}}, 'Chronic Lymphocytic Leukemia': {'Top-1': {'Precision': 0.23684210526315788, 'Recall': 0.75, 'F-Score': 0.36, 'TP': 9, 'FP': 29, 'FN': 3, 'Accuracy': 0.75, 'Total Instances': 12}, 'Top-2': {'Precision': 0.19148936170212766, 'Recall': 0.75, 'F-Score': 0.3050847457627119, 'TP': 9, 'FP': 38, 'FN': 3, 'Accuracy': 0.75, 'Total Instances': 12}, 'Top-3': {'Precision': 0.17647058823529413, 'Recall': 0.75, 'F-Score': 0.2857142857142857, 'TP': 9, 'FP': 42, 'FN': 3, 'Accuracy': 0.75, 'Total Instances': 12}}, 'Chronic Myeloid Leukemia': {'Top-1': {'Precision': 0.6296296296296297, 'Recall': 0.4473684210526316, 'F-Score': 0.5230769230769231, 'TP': 17, 'FP': 10, 'FN': 21, 'Accuracy': 0.4473684210526316, 'Total Instances': 38}, 'Top-2': {'Precision': 0.22, 'Recall': 0.5789473684210527, 'F-Score': 0.3188405797101449, 'TP': 22, 'FP': 78, 'FN': 16, 'Accuracy': 0.5789473684210527, 'Total Instances': 38}, 'Top-3': {'Precision': 0.14054054054054055, 'Recall': 0.6842105263157895, 'F-Score': 0.23318385650224216, 'TP': 26, 'FP': 159, 'FN': 12, 'Accuracy': 0.6842105263157895, 'Total Instances': 38}}, 'Chronic Myelomonocytic Leukemia': {'Top-1': {'Precision': 0.22580645161290322, 'Recall': 0.4375, 'F-Score': 0.2978723404255319, 'TP': 7, 'FP': 24, 'FN': 9, 'Accuracy': 0.4375, 'Total Instances': 16}, 'Top-2': {'Precision': 0.0859375, 'Recall': 0.6875, 'F-Score': 0.1527777777777778, 'TP': 11, 'FP': 117, 'FN': 5, 'Accuracy': 0.6875, 'Total Instances': 16}, 'Top-3': {'Precision': 0.07537688442211055, 'Recall': 0.9375, 'F-Score': 0.13953488372093023, 'TP': 15, 'FP': 184, 'FN': 1, 'Accuracy': 0.9375, 'Total Instances': 16}}, 'Mature B-cell Neoplasm': {'Top-1': {'Precision': 0.0, 'Recall': 0.0, 'F-Score': 0, 'TP': 0, 'FP': 1, 'FN': 50, 'Accuracy': 0.0, 'Total Instances': 50}, 'Top-2': {'Precision': 0.54, 'Recall': 0.54, 'F-Score': 0.54, 'TP': 27, 'FP': 23, 'FN': 23, 'Accuracy': 0.54, 'Total Instances': 50}, 'Top-3': {'Precision': 0.4909090909090909, 'Recall': 0.54, 'F-Score': 0.5142857142857142, 'TP': 27, 'FP': 28, 'FN': 23, 'Accuracy': 0.54, 'Total Instances': 50}}, 'Myelodysplastic Syndrome': {'Top-1': {'Precision': 0.5666666666666667, 'Recall': 0.5151515151515151, 'F-Score': 0.5396825396825397, 'TP': 34, 'FP': 26, 'FN': 32, 'Accuracy': 0.5151515151515151, 'Total Instances': 66}, 'Top-2': {'Precision': 0.20866141732283464, 'Recall': 0.803030303030303, 'F-Score': 0.33124999999999993, 'TP': 53, 'FP': 201, 'FN': 13, 'Accuracy': 0.803030303030303, 'Total Instances': 66}, 'Top-3': {'Precision': 0.1721311475409836, 'Recall': 0.9545454545454546, 'F-Score': 0.29166666666666663, 'TP': 63, 'FP': 303, 'FN': 3, 'Accuracy': 0.9545454545454546, 'Total Instances': 66}}, 'Normal': {'Top-1': {'Precision': 0.65, 'Recall': 0.6582278481012658, 'F-Score': 0.6540880503144655, 'TP': 52, 'FP': 28, 'FN': 27, 'Accuracy': 0.6582278481012658, 'Total Instances': 79}, 'Top-2': {'Precision': 0.65, 'Recall': 0.6582278481012658, 'F-Score': 0.6540880503144655, 'TP': 52, 'FP': 28, 'FN': 27, 'Accuracy': 0.6582278481012658, 'Total Instances': 79}, 'Top-3': {'Precision': 0.3444976076555024, 'Recall': 0.9113924050632911, 'F-Score': 0.5, 'TP': 72, 'FP': 137, 'FN': 7, 'Accuracy': 0.9113924050632911, 'Total Instances': 79}}, 'Plasma Cell Myeloma': {'Top-1': {'Precision': 1.0, 'Recall': 0.8, 'F-Score': 0.888888888888889, 'TP': 16, 'FP': 0, 'FN': 4, 'Accuracy': 0.8, 'Total Instances': 20}, 'Top-2': {'Precision': 1.0, 'Recall': 0.8, 'F-Score': 0.888888888888889, 'TP': 16, 'FP': 0, 'FN': 4, 'Accuracy': 0.8, 'Total Instances': 20}, 'Top-3': {'Precision': 0.9411764705882353, 'Recall': 0.8, 'F-Score': 0.8648648648648648, 'TP': 16, 'FP': 1, 'FN': 4, 'Accuracy': 0.8, 'Total Instances': 20}}}\n"
     ]
    }
   ],
   "source": [
    "metrics = calculate_metrics(df)\n",
    "print(metrics)"
   ]
  },
  {
   "cell_type": "markdown",
   "metadata": {},
   "source": [
    "### Plotting the model's evaluation metrics for each diagnosis label"
   ]
  },
  {
   "cell_type": "code",
   "execution_count": 30,
   "metadata": {},
   "outputs": [],
   "source": [
    "def plot_metrics(label, metrics):\n",
    "    data = []\n",
    "    for top_k, values in metrics.items():\n",
    "        for eval_metric in ['Accuracy', 'Precision', 'Recall', 'F-Score']:\n",
    "            value = values[eval_metric]\n",
    "            data.append({'Top-k Prediction': top_k, 'Value': value, 'Evaluation': eval_metric})\n",
    "    \n",
    "    df = pd.DataFrame(data)\n",
    "\n",
    "\n",
    "    fig, axes = plt.subplots(2, 2, figsize=(12, 10), sharey=True) \n",
    "    fig.subplots_adjust(hspace=0.4, wspace=0.4)  \n",
    "\n",
    "    colors = ['#E77E63', '#C14068', '#6A2B6C']\n",
    "\n",
    "    for i, metric in enumerate(['Accuracy', 'Precision', 'Recall', 'F-Score']):\n",
    "        ax = axes[i//2, i%2]\n",
    "        metric_df = df[df['Evaluation'] == metric]\n",
    "\n",
    "        for j, top_k in enumerate(metric_df['Top-k Prediction'].unique()):\n",
    "            sns.barplot(x='Top-k Prediction', y='Value', data=metric_df[metric_df['Top-k Prediction'] == top_k], ax=ax, color=colors[j], label=top_k)\n",
    "        ax.set_ylim(0, 1) \n",
    "        ax.set_title(f'{label} - {metric}')\n",
    "        ax.set_ylabel('Score')\n",
    "        ax.legend().remove()  \n",
    "\n",
    "    plt.tight_layout()\n",
    "    safe_label = label.replace(\"/\", \"_\").replace(\" \", \"_\")\n",
    "\n",
    "\n",
    "    plt.savefig(f'figures/{safe_label}_metrics.png', format='png', dpi=300)\n",
    "    plt.close() "
   ]
  },
  {
   "cell_type": "code",
   "execution_count": 31,
   "metadata": {},
   "outputs": [],
   "source": [
    "for label, label_metrics in metrics.items():\n",
    "    plot_metrics(label, label_metrics)"
   ]
  },
  {
   "cell_type": "markdown",
   "metadata": {},
   "source": [
    "### Writing Metrics Data into a Table"
   ]
  },
  {
   "cell_type": "code",
   "execution_count": 34,
   "metadata": {},
   "outputs": [],
   "source": [
    "data = []\n",
    "for label, top_k_data in metrics.items():\n",
    "    for top_k, values in top_k_data.items():\n",
    "        row = {\n",
    "            'Label': label,\n",
    "            'Top-k': top_k,\n",
    "            'Accuracy': values['Accuracy'],\n",
    "            'Precision': values['Precision'],\n",
    "            'Recall': values['Recall'],\n",
    "            'F-Score': values['F-Score'],\n",
    "            'TP': values['TP'],\n",
    "            'FP': values['FP'],\n",
    "            'FN': values['FN'],\n",
    "            'Total Instances': values['Total Instances']\n",
    "        }\n",
    "        data.append(row)\n",
    "\n",
    "metrics_df = pd.DataFrame(data)\n",
    "metrics_df.to_csv('table1.csv', index=False)"
   ]
  },
  {
   "cell_type": "markdown",
   "metadata": {},
   "source": [
    "### Checking which type of FLOW the model suggested"
   ]
  },
  {
   "cell_type": "code",
   "execution_count": 60,
   "metadata": {},
   "outputs": [
    {
     "data": {
      "image/png": "[encoded data removed]",
      "text/plain": [
       "<Figure size 800x800 with 1 Axes>"
      ]
     },
     "metadata": {},
     "output_type": "display_data"
    }
   ],
   "source": [
    "#filtered_df = df[df['Dx_Cat'].isin(['Chronic Lymphocytic Leukemia', 'Mature B-cell Neoplasm'])]\n",
    "filtered_df = df[df['Dx_Cat'].isin(['Chronic Myeloid Leukemia', 'Chronic Myelomonocytic Leukemia'])]\n",
    "\n",
    "flow_counts = filtered_df['Type of FLOW'].value_counts()\n",
    "\n",
    "category_colors = {\n",
    "    'Lymphoid': '#E77E63',\n",
    "    'Myeloid': '#6A2B6C'\n",
    "}\n",
    "\n",
    "pie_colors = [category_colors[label] for label in flow_counts.index]\n",
    "\n",
    "def custom_autopct(pct):\n",
    "    total = sum(flow_counts)\n",
    "    val = int(round(pct*total/100.0))\n",
    "    return '{p:.1f}%  (n={v:d})'.format(p=pct, v=val)\n",
    "\n",
    "plt.figure(figsize=(8, 8))\n",
    "plt.pie(flow_counts, labels=flow_counts.index, autopct=custom_autopct, startangle=140, colors=pie_colors)\n",
    "plt.title('Distribution of Type of FLOW Predictions for Myeloid Diseases')\n",
    "plt.savefig(f'figures/myeloid_FLOW_predictions.png', format='png', dpi=300)\n",
    "plt.show()"
   ]
  }
 ],
 "metadata": {
  "kernelspec": {
   "display_name": "venv",
   "language": "python",
   "name": "python3"
  },
  "language_info": {
   "codemirror_mode": {
    "name": "ipython",
    "version": 3
   },
   "file_extension": ".py",
   "mimetype": "text/x-python",
   "name": "python",
   "nbconvert_exporter": "python",
   "pygments_lexer": "ipython3",
   "version": "3.8.10"
  }
 },
 "nbformat": 4,
 "nbformat_minor": 2
}
